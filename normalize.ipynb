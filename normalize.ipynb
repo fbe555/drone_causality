{
 "cells": [
  {
   "cell_type": "code",
   "execution_count": 2,
   "metadata": {},
   "outputs": [
    {
     "name": "stdout",
     "output_type": "stream",
     "text": [
      "(30762, 7)\n",
      "[1.71657532e+18 1.38170825e+00 2.24366387e+00 3.62732302e+01\n",
      " 0.00000000e+00 0.00000000e+00 8.33186273e-01]\n",
      "[1.71657532e+18 2.80258548e+01 4.14134218e+00 3.81745858e+01\n",
      " 0.00000000e+00 0.00000000e+00 9.05199275e-01]\n",
      "[1.71657532e+18 2.71779059e+01 4.00362690e+00 3.81644434e+01\n",
      " 0.00000000e+00 0.00000000e+00 9.03026472e-01]\n"
     ]
    }
   ],
   "source": [
    "import os\n",
    "import numpy as np\n",
    "\n",
    "def get_data_dirs_recursively(root):\n",
    "    \"\"\" Get all directories that has a control.csv and a mission_completed.txt file in a folder recursively  \"\"\"\n",
    "    data_dirs = []\n",
    "    for (dirpath, subdirs, files) in os.walk(root):\n",
    "        if 'control.csv' in files and 'mission_completed.txt' in files and not 'questionable.txt' in files:\n",
    "            data_dirs.append(dirpath)\n",
    "    return data_dirs\n",
    "\n",
    "def normalize_files(data_dir):\n",
    "    #for each dir in data_dir, load the control.csv and append to np array\n",
    "    data = []\n",
    "    for dir in data_dir:\n",
    "        control = np.loadtxt(dir + '/control.csv', delimiter=',', skiprows=1)    \n",
    "        data.append(control)\n",
    "    # Combine into one array\n",
    "    all_data = np.concatenate(data)\n",
    "   \n",
    "    # Compute the mean and standard deviation\n",
    "    mean = np.mean(all_data, axis=0)\n",
    "    std = np.std(all_data, axis=0)\n",
    "\n",
    "    mean_array = mean.reshape(1, -1)\n",
    "    std_array = std.reshape(1, -1)\n",
    "    mean_array = mean_array[:,1:]\n",
    "    std_array = std_array[:,1:]\n",
    "    \n",
    "    np.savetxt(\"training_data/stats/training_output_means.csv\", mean_array, delimiter=\",\")\n",
    "    np.savetxt(\"training_data/stats/training_output_stds.csv\", std_array, delimiter=\",\")\n",
    "\n",
    "normalize_files(get_data_dirs_recursively('training_data'))\n",
    "\n"
   ]
  }
 ],
 "metadata": {
  "kernelspec": {
   "display_name": ".venv",
   "language": "python",
   "name": "python3"
  },
  "language_info": {
   "codemirror_mode": {
    "name": "ipython",
    "version": 3
   },
   "file_extension": ".py",
   "mimetype": "text/x-python",
   "name": "python",
   "nbconvert_exporter": "python",
   "pygments_lexer": "ipython3",
   "version": "3.12.3"
  }
 },
 "nbformat": 4,
 "nbformat_minor": 2
}
